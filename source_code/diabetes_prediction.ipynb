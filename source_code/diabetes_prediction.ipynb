{
  "nbformat": 4,
  "nbformat_minor": 0,
  "metadata": {
    "colab": {
      "provenance": [],
      "gpuType": "T4"
    },
    "kernelspec": {
      "name": "python3",
      "display_name": "Python 3"
    },
    "language_info": {
      "name": "python"
    },
    "accelerator": "GPU"
  },
  "cells": [
    {
      "cell_type": "markdown",
      "source": [
        "## Project Data, Informasi, dan Pengetahuan\n",
        "- Nama: Muhammad Habibulloh\n",
        "- Email: habibmuhammadoct@gmail.com"
      ],
      "metadata": {
        "id": "xJ55Rybk21Aw"
      }
    },
    {
      "cell_type": "markdown",
      "source": [
        "### Prediksi Risiko Diabetes\n",
        "- Bidang: Kesehatan\n",
        "- Pima Indians Diabetes Database\n",
        "- [Link Dataset](https://www.kaggle.com/datasets/uciml/pima-indians-diabetes-database)"
      ],
      "metadata": {
        "id": "NB-jh9f_NNGX"
      }
    },
    {
      "cell_type": "markdown",
      "source": [
        "Berikut adalah metode preprocessing dari paper yang telah diimplementasikan dalam proyek ini:\n",
        "\n",
        "1.  **Penanganan Missing Value:** Imputasi dengan **mean** untuk fitur umum dan **XGBoost Regressor** untuk fitur `Insulin` setelah mengubah '0' menjadi `NaN`.\n",
        "3.  **Normalisasi:** Menggunakan **Min-Max Normalization**.\n",
        "4.  **Feature Selection:** Penghapusan fitur **`DiabetesPedigreeFunction`**."
      ],
      "metadata": {
        "id": "f4WK-2aOjJrD"
      }
    },
    {
      "cell_type": "markdown",
      "source": [
        "### Setup Environment & Load Data"
      ],
      "metadata": {
        "id": "wk8MSy0O1aU8"
      }
    },
    {
      "cell_type": "markdown",
      "source": [
        "#### Instal Library"
      ],
      "metadata": {
        "id": "TvV8kksa1cKc"
      }
    },
    {
      "cell_type": "code",
      "source": [
        "!pip install pandas numpy matplotlib seaborn scikit-learn imbalanced-learn"
      ],
      "metadata": {
        "colab": {
          "base_uri": "https://localhost:8080/"
        },
        "id": "C6g27V3CRK0H",
        "outputId": "f3565579-a4ee-4faa-cec5-573d7c58a32b"
      },
      "execution_count": 1,
      "outputs": [
        {
          "output_type": "stream",
          "name": "stdout",
          "text": [
            "Requirement already satisfied: pandas in /usr/local/lib/python3.11/dist-packages (2.2.2)\n",
            "Requirement already satisfied: numpy in /usr/local/lib/python3.11/dist-packages (2.0.2)\n",
            "Requirement already satisfied: matplotlib in /usr/local/lib/python3.11/dist-packages (3.10.0)\n",
            "Requirement already satisfied: seaborn in /usr/local/lib/python3.11/dist-packages (0.13.2)\n",
            "Requirement already satisfied: scikit-learn in /usr/local/lib/python3.11/dist-packages (1.6.1)\n",
            "Requirement already satisfied: imbalanced-learn in /usr/local/lib/python3.11/dist-packages (0.13.0)\n",
            "Requirement already satisfied: python-dateutil>=2.8.2 in /usr/local/lib/python3.11/dist-packages (from pandas) (2.9.0.post0)\n",
            "Requirement already satisfied: pytz>=2020.1 in /usr/local/lib/python3.11/dist-packages (from pandas) (2025.2)\n",
            "Requirement already satisfied: tzdata>=2022.7 in /usr/local/lib/python3.11/dist-packages (from pandas) (2025.2)\n",
            "Requirement already satisfied: contourpy>=1.0.1 in /usr/local/lib/python3.11/dist-packages (from matplotlib) (1.3.2)\n",
            "Requirement already satisfied: cycler>=0.10 in /usr/local/lib/python3.11/dist-packages (from matplotlib) (0.12.1)\n",
            "Requirement already satisfied: fonttools>=4.22.0 in /usr/local/lib/python3.11/dist-packages (from matplotlib) (4.58.1)\n",
            "Requirement already satisfied: kiwisolver>=1.3.1 in /usr/local/lib/python3.11/dist-packages (from matplotlib) (1.4.8)\n",
            "Requirement already satisfied: packaging>=20.0 in /usr/local/lib/python3.11/dist-packages (from matplotlib) (24.2)\n",
            "Requirement already satisfied: pillow>=8 in /usr/local/lib/python3.11/dist-packages (from matplotlib) (11.2.1)\n",
            "Requirement already satisfied: pyparsing>=2.3.1 in /usr/local/lib/python3.11/dist-packages (from matplotlib) (3.2.3)\n",
            "Requirement already satisfied: scipy>=1.6.0 in /usr/local/lib/python3.11/dist-packages (from scikit-learn) (1.15.3)\n",
            "Requirement already satisfied: joblib>=1.2.0 in /usr/local/lib/python3.11/dist-packages (from scikit-learn) (1.5.1)\n",
            "Requirement already satisfied: threadpoolctl>=3.1.0 in /usr/local/lib/python3.11/dist-packages (from scikit-learn) (3.6.0)\n",
            "Requirement already satisfied: sklearn-compat<1,>=0.1 in /usr/local/lib/python3.11/dist-packages (from imbalanced-learn) (0.1.3)\n",
            "Requirement already satisfied: six>=1.5 in /usr/local/lib/python3.11/dist-packages (from python-dateutil>=2.8.2->pandas) (1.17.0)\n"
          ]
        }
      ]
    },
    {
      "cell_type": "markdown",
      "source": [
        "#### Import Library"
      ],
      "metadata": {
        "id": "94S26ekD1g-b"
      }
    },
    {
      "cell_type": "code",
      "source": [
        "import pandas as pd\n",
        "import numpy as np\n",
        "import matplotlib.pyplot as plt\n",
        "import seaborn as sns\n",
        "\n",
        "from sklearn.preprocessing import MinMaxScaler\n",
        "from sklearn.model_selection import train_test_split, GridSearchCV\n",
        "from sklearn.linear_model import LogisticRegression\n",
        "from sklearn.ensemble import RandomForestClassifier, GradientBoostingClassifier\n",
        "from sklearn.metrics import accuracy_score, classification_report, confusion_matrix\n",
        "from imblearn.over_sampling import SMOTE\n",
        "from sklearn.feature_selection import mutual_info_classif\n",
        "from xgboost import XGBRegressor"
      ],
      "metadata": {
        "id": "Mou8idgQ1ily"
      },
      "execution_count": 2,
      "outputs": []
    },
    {
      "cell_type": "markdown",
      "source": [
        "#### Load Dataset"
      ],
      "metadata": {
        "id": "9jp-P6hd1krK"
      }
    },
    {
      "cell_type": "code",
      "source": [
        "# Load file CSV\n",
        "df = pd.read_csv('diabetes.csv')"
      ],
      "metadata": {
        "id": "G8g_rAg11mtd"
      },
      "execution_count": 3,
      "outputs": []
    },
    {
      "cell_type": "code",
      "source": [
        "# Cek data\n",
        "print(\"Jumlah data:\", len(df))\n",
        "df.head()"
      ],
      "metadata": {
        "colab": {
          "base_uri": "https://localhost:8080/",
          "height": 224
        },
        "id": "Y3cFpDO91rAy",
        "outputId": "8e7ba043-3790-4b6f-d7ab-d32ade6ce770"
      },
      "execution_count": 4,
      "outputs": [
        {
          "output_type": "stream",
          "name": "stdout",
          "text": [
            "Jumlah data: 768\n"
          ]
        },
        {
          "output_type": "execute_result",
          "data": {
            "text/plain": [
              "   Pregnancies  Glucose  BloodPressure  SkinThickness  Insulin   BMI  \\\n",
              "0            6      148             72             35        0  33.6   \n",
              "1            1       85             66             29        0  26.6   \n",
              "2            8      183             64              0        0  23.3   \n",
              "3            1       89             66             23       94  28.1   \n",
              "4            0      137             40             35      168  43.1   \n",
              "\n",
              "   DiabetesPedigreeFunction  Age  Outcome  \n",
              "0                     0.627   50        1  \n",
              "1                     0.351   31        0  \n",
              "2                     0.672   32        1  \n",
              "3                     0.167   21        0  \n",
              "4                     2.288   33        1  "
            ],
            "text/html": [
              "\n",
              "  <div id=\"df-9125cc0c-f677-4d49-8793-b28d239ed5aa\" class=\"colab-df-container\">\n",
              "    <div>\n",
              "<style scoped>\n",
              "    .dataframe tbody tr th:only-of-type {\n",
              "        vertical-align: middle;\n",
              "    }\n",
              "\n",
              "    .dataframe tbody tr th {\n",
              "        vertical-align: top;\n",
              "    }\n",
              "\n",
              "    .dataframe thead th {\n",
              "        text-align: right;\n",
              "    }\n",
              "</style>\n",
              "<table border=\"1\" class=\"dataframe\">\n",
              "  <thead>\n",
              "    <tr style=\"text-align: right;\">\n",
              "      <th></th>\n",
              "      <th>Pregnancies</th>\n",
              "      <th>Glucose</th>\n",
              "      <th>BloodPressure</th>\n",
              "      <th>SkinThickness</th>\n",
              "      <th>Insulin</th>\n",
              "      <th>BMI</th>\n",
              "      <th>DiabetesPedigreeFunction</th>\n",
              "      <th>Age</th>\n",
              "      <th>Outcome</th>\n",
              "    </tr>\n",
              "  </thead>\n",
              "  <tbody>\n",
              "    <tr>\n",
              "      <th>0</th>\n",
              "      <td>6</td>\n",
              "      <td>148</td>\n",
              "      <td>72</td>\n",
              "      <td>35</td>\n",
              "      <td>0</td>\n",
              "      <td>33.6</td>\n",
              "      <td>0.627</td>\n",
              "      <td>50</td>\n",
              "      <td>1</td>\n",
              "    </tr>\n",
              "    <tr>\n",
              "      <th>1</th>\n",
              "      <td>1</td>\n",
              "      <td>85</td>\n",
              "      <td>66</td>\n",
              "      <td>29</td>\n",
              "      <td>0</td>\n",
              "      <td>26.6</td>\n",
              "      <td>0.351</td>\n",
              "      <td>31</td>\n",
              "      <td>0</td>\n",
              "    </tr>\n",
              "    <tr>\n",
              "      <th>2</th>\n",
              "      <td>8</td>\n",
              "      <td>183</td>\n",
              "      <td>64</td>\n",
              "      <td>0</td>\n",
              "      <td>0</td>\n",
              "      <td>23.3</td>\n",
              "      <td>0.672</td>\n",
              "      <td>32</td>\n",
              "      <td>1</td>\n",
              "    </tr>\n",
              "    <tr>\n",
              "      <th>3</th>\n",
              "      <td>1</td>\n",
              "      <td>89</td>\n",
              "      <td>66</td>\n",
              "      <td>23</td>\n",
              "      <td>94</td>\n",
              "      <td>28.1</td>\n",
              "      <td>0.167</td>\n",
              "      <td>21</td>\n",
              "      <td>0</td>\n",
              "    </tr>\n",
              "    <tr>\n",
              "      <th>4</th>\n",
              "      <td>0</td>\n",
              "      <td>137</td>\n",
              "      <td>40</td>\n",
              "      <td>35</td>\n",
              "      <td>168</td>\n",
              "      <td>43.1</td>\n",
              "      <td>2.288</td>\n",
              "      <td>33</td>\n",
              "      <td>1</td>\n",
              "    </tr>\n",
              "  </tbody>\n",
              "</table>\n",
              "</div>\n",
              "    <div class=\"colab-df-buttons\">\n",
              "\n",
              "  <div class=\"colab-df-container\">\n",
              "    <button class=\"colab-df-convert\" onclick=\"convertToInteractive('df-9125cc0c-f677-4d49-8793-b28d239ed5aa')\"\n",
              "            title=\"Convert this dataframe to an interactive table.\"\n",
              "            style=\"display:none;\">\n",
              "\n",
              "  <svg xmlns=\"http://www.w3.org/2000/svg\" height=\"24px\" viewBox=\"0 -960 960 960\">\n",
              "    <path d=\"M120-120v-720h720v720H120Zm60-500h600v-160H180v160Zm220 220h160v-160H400v160Zm0 220h160v-160H400v160ZM180-400h160v-160H180v160Zm440 0h160v-160H620v160ZM180-180h160v-160H180v160Zm440 0h160v-160H620v160Z\"/>\n",
              "  </svg>\n",
              "    </button>\n",
              "\n",
              "  <style>\n",
              "    .colab-df-container {\n",
              "      display:flex;\n",
              "      gap: 12px;\n",
              "    }\n",
              "\n",
              "    .colab-df-convert {\n",
              "      background-color: #E8F0FE;\n",
              "      border: none;\n",
              "      border-radius: 50%;\n",
              "      cursor: pointer;\n",
              "      display: none;\n",
              "      fill: #1967D2;\n",
              "      height: 32px;\n",
              "      padding: 0 0 0 0;\n",
              "      width: 32px;\n",
              "    }\n",
              "\n",
              "    .colab-df-convert:hover {\n",
              "      background-color: #E2EBFA;\n",
              "      box-shadow: 0px 1px 2px rgba(60, 64, 67, 0.3), 0px 1px 3px 1px rgba(60, 64, 67, 0.15);\n",
              "      fill: #174EA6;\n",
              "    }\n",
              "\n",
              "    .colab-df-buttons div {\n",
              "      margin-bottom: 4px;\n",
              "    }\n",
              "\n",
              "    [theme=dark] .colab-df-convert {\n",
              "      background-color: #3B4455;\n",
              "      fill: #D2E3FC;\n",
              "    }\n",
              "\n",
              "    [theme=dark] .colab-df-convert:hover {\n",
              "      background-color: #434B5C;\n",
              "      box-shadow: 0px 1px 3px 1px rgba(0, 0, 0, 0.15);\n",
              "      filter: drop-shadow(0px 1px 2px rgba(0, 0, 0, 0.3));\n",
              "      fill: #FFFFFF;\n",
              "    }\n",
              "  </style>\n",
              "\n",
              "    <script>\n",
              "      const buttonEl =\n",
              "        document.querySelector('#df-9125cc0c-f677-4d49-8793-b28d239ed5aa button.colab-df-convert');\n",
              "      buttonEl.style.display =\n",
              "        google.colab.kernel.accessAllowed ? 'block' : 'none';\n",
              "\n",
              "      async function convertToInteractive(key) {\n",
              "        const element = document.querySelector('#df-9125cc0c-f677-4d49-8793-b28d239ed5aa');\n",
              "        const dataTable =\n",
              "          await google.colab.kernel.invokeFunction('convertToInteractive',\n",
              "                                                    [key], {});\n",
              "        if (!dataTable) return;\n",
              "\n",
              "        const docLinkHtml = 'Like what you see? Visit the ' +\n",
              "          '<a target=\"_blank\" href=https://colab.research.google.com/notebooks/data_table.ipynb>data table notebook</a>'\n",
              "          + ' to learn more about interactive tables.';\n",
              "        element.innerHTML = '';\n",
              "        dataTable['output_type'] = 'display_data';\n",
              "        await google.colab.output.renderOutput(dataTable, element);\n",
              "        const docLink = document.createElement('div');\n",
              "        docLink.innerHTML = docLinkHtml;\n",
              "        element.appendChild(docLink);\n",
              "      }\n",
              "    </script>\n",
              "  </div>\n",
              "\n",
              "\n",
              "    <div id=\"df-75a646c5-aca9-4998-8448-e60f07b24fff\">\n",
              "      <button class=\"colab-df-quickchart\" onclick=\"quickchart('df-75a646c5-aca9-4998-8448-e60f07b24fff')\"\n",
              "                title=\"Suggest charts\"\n",
              "                style=\"display:none;\">\n",
              "\n",
              "<svg xmlns=\"http://www.w3.org/2000/svg\" height=\"24px\"viewBox=\"0 0 24 24\"\n",
              "     width=\"24px\">\n",
              "    <g>\n",
              "        <path d=\"M19 3H5c-1.1 0-2 .9-2 2v14c0 1.1.9 2 2 2h14c1.1 0 2-.9 2-2V5c0-1.1-.9-2-2-2zM9 17H7v-7h2v7zm4 0h-2V7h2v10zm4 0h-2v-4h2v4z\"/>\n",
              "    </g>\n",
              "</svg>\n",
              "      </button>\n",
              "\n",
              "<style>\n",
              "  .colab-df-quickchart {\n",
              "      --bg-color: #E8F0FE;\n",
              "      --fill-color: #1967D2;\n",
              "      --hover-bg-color: #E2EBFA;\n",
              "      --hover-fill-color: #174EA6;\n",
              "      --disabled-fill-color: #AAA;\n",
              "      --disabled-bg-color: #DDD;\n",
              "  }\n",
              "\n",
              "  [theme=dark] .colab-df-quickchart {\n",
              "      --bg-color: #3B4455;\n",
              "      --fill-color: #D2E3FC;\n",
              "      --hover-bg-color: #434B5C;\n",
              "      --hover-fill-color: #FFFFFF;\n",
              "      --disabled-bg-color: #3B4455;\n",
              "      --disabled-fill-color: #666;\n",
              "  }\n",
              "\n",
              "  .colab-df-quickchart {\n",
              "    background-color: var(--bg-color);\n",
              "    border: none;\n",
              "    border-radius: 50%;\n",
              "    cursor: pointer;\n",
              "    display: none;\n",
              "    fill: var(--fill-color);\n",
              "    height: 32px;\n",
              "    padding: 0;\n",
              "    width: 32px;\n",
              "  }\n",
              "\n",
              "  .colab-df-quickchart:hover {\n",
              "    background-color: var(--hover-bg-color);\n",
              "    box-shadow: 0 1px 2px rgba(60, 64, 67, 0.3), 0 1px 3px 1px rgba(60, 64, 67, 0.15);\n",
              "    fill: var(--button-hover-fill-color);\n",
              "  }\n",
              "\n",
              "  .colab-df-quickchart-complete:disabled,\n",
              "  .colab-df-quickchart-complete:disabled:hover {\n",
              "    background-color: var(--disabled-bg-color);\n",
              "    fill: var(--disabled-fill-color);\n",
              "    box-shadow: none;\n",
              "  }\n",
              "\n",
              "  .colab-df-spinner {\n",
              "    border: 2px solid var(--fill-color);\n",
              "    border-color: transparent;\n",
              "    border-bottom-color: var(--fill-color);\n",
              "    animation:\n",
              "      spin 1s steps(1) infinite;\n",
              "  }\n",
              "\n",
              "  @keyframes spin {\n",
              "    0% {\n",
              "      border-color: transparent;\n",
              "      border-bottom-color: var(--fill-color);\n",
              "      border-left-color: var(--fill-color);\n",
              "    }\n",
              "    20% {\n",
              "      border-color: transparent;\n",
              "      border-left-color: var(--fill-color);\n",
              "      border-top-color: var(--fill-color);\n",
              "    }\n",
              "    30% {\n",
              "      border-color: transparent;\n",
              "      border-left-color: var(--fill-color);\n",
              "      border-top-color: var(--fill-color);\n",
              "      border-right-color: var(--fill-color);\n",
              "    }\n",
              "    40% {\n",
              "      border-color: transparent;\n",
              "      border-right-color: var(--fill-color);\n",
              "      border-top-color: var(--fill-color);\n",
              "    }\n",
              "    60% {\n",
              "      border-color: transparent;\n",
              "      border-right-color: var(--fill-color);\n",
              "    }\n",
              "    80% {\n",
              "      border-color: transparent;\n",
              "      border-right-color: var(--fill-color);\n",
              "      border-bottom-color: var(--fill-color);\n",
              "    }\n",
              "    90% {\n",
              "      border-color: transparent;\n",
              "      border-bottom-color: var(--fill-color);\n",
              "    }\n",
              "  }\n",
              "</style>\n",
              "\n",
              "      <script>\n",
              "        async function quickchart(key) {\n",
              "          const quickchartButtonEl =\n",
              "            document.querySelector('#' + key + ' button');\n",
              "          quickchartButtonEl.disabled = true;  // To prevent multiple clicks.\n",
              "          quickchartButtonEl.classList.add('colab-df-spinner');\n",
              "          try {\n",
              "            const charts = await google.colab.kernel.invokeFunction(\n",
              "                'suggestCharts', [key], {});\n",
              "          } catch (error) {\n",
              "            console.error('Error during call to suggestCharts:', error);\n",
              "          }\n",
              "          quickchartButtonEl.classList.remove('colab-df-spinner');\n",
              "          quickchartButtonEl.classList.add('colab-df-quickchart-complete');\n",
              "        }\n",
              "        (() => {\n",
              "          let quickchartButtonEl =\n",
              "            document.querySelector('#df-75a646c5-aca9-4998-8448-e60f07b24fff button');\n",
              "          quickchartButtonEl.style.display =\n",
              "            google.colab.kernel.accessAllowed ? 'block' : 'none';\n",
              "        })();\n",
              "      </script>\n",
              "    </div>\n",
              "\n",
              "    </div>\n",
              "  </div>\n"
            ],
            "application/vnd.google.colaboratory.intrinsic+json": {
              "type": "dataframe",
              "variable_name": "df",
              "summary": "{\n  \"name\": \"df\",\n  \"rows\": 768,\n  \"fields\": [\n    {\n      \"column\": \"Pregnancies\",\n      \"properties\": {\n        \"dtype\": \"number\",\n        \"std\": 3,\n        \"min\": 0,\n        \"max\": 17,\n        \"num_unique_values\": 17,\n        \"samples\": [\n          6,\n          1,\n          3\n        ],\n        \"semantic_type\": \"\",\n        \"description\": \"\"\n      }\n    },\n    {\n      \"column\": \"Glucose\",\n      \"properties\": {\n        \"dtype\": \"number\",\n        \"std\": 31,\n        \"min\": 0,\n        \"max\": 199,\n        \"num_unique_values\": 136,\n        \"samples\": [\n          151,\n          101,\n          112\n        ],\n        \"semantic_type\": \"\",\n        \"description\": \"\"\n      }\n    },\n    {\n      \"column\": \"BloodPressure\",\n      \"properties\": {\n        \"dtype\": \"number\",\n        \"std\": 19,\n        \"min\": 0,\n        \"max\": 122,\n        \"num_unique_values\": 47,\n        \"samples\": [\n          86,\n          46,\n          85\n        ],\n        \"semantic_type\": \"\",\n        \"description\": \"\"\n      }\n    },\n    {\n      \"column\": \"SkinThickness\",\n      \"properties\": {\n        \"dtype\": \"number\",\n        \"std\": 15,\n        \"min\": 0,\n        \"max\": 99,\n        \"num_unique_values\": 51,\n        \"samples\": [\n          7,\n          12,\n          48\n        ],\n        \"semantic_type\": \"\",\n        \"description\": \"\"\n      }\n    },\n    {\n      \"column\": \"Insulin\",\n      \"properties\": {\n        \"dtype\": \"number\",\n        \"std\": 115,\n        \"min\": 0,\n        \"max\": 846,\n        \"num_unique_values\": 186,\n        \"samples\": [\n          52,\n          41,\n          183\n        ],\n        \"semantic_type\": \"\",\n        \"description\": \"\"\n      }\n    },\n    {\n      \"column\": \"BMI\",\n      \"properties\": {\n        \"dtype\": \"number\",\n        \"std\": 7.8841603203754405,\n        \"min\": 0.0,\n        \"max\": 67.1,\n        \"num_unique_values\": 248,\n        \"samples\": [\n          19.9,\n          31.0,\n          38.1\n        ],\n        \"semantic_type\": \"\",\n        \"description\": \"\"\n      }\n    },\n    {\n      \"column\": \"DiabetesPedigreeFunction\",\n      \"properties\": {\n        \"dtype\": \"number\",\n        \"std\": 0.33132859501277484,\n        \"min\": 0.078,\n        \"max\": 2.42,\n        \"num_unique_values\": 517,\n        \"samples\": [\n          1.731,\n          0.426,\n          0.138\n        ],\n        \"semantic_type\": \"\",\n        \"description\": \"\"\n      }\n    },\n    {\n      \"column\": \"Age\",\n      \"properties\": {\n        \"dtype\": \"number\",\n        \"std\": 11,\n        \"min\": 21,\n        \"max\": 81,\n        \"num_unique_values\": 52,\n        \"samples\": [\n          60,\n          47,\n          72\n        ],\n        \"semantic_type\": \"\",\n        \"description\": \"\"\n      }\n    },\n    {\n      \"column\": \"Outcome\",\n      \"properties\": {\n        \"dtype\": \"number\",\n        \"std\": 0,\n        \"min\": 0,\n        \"max\": 1,\n        \"num_unique_values\": 2,\n        \"samples\": [\n          0,\n          1\n        ],\n        \"semantic_type\": \"\",\n        \"description\": \"\"\n      }\n    }\n  ]\n}"
            }
          },
          "metadata": {},
          "execution_count": 4
        }
      ]
    },
    {
      "cell_type": "markdown",
      "source": [
        "### Eksplorasi Data (EDA)"
      ],
      "metadata": {
        "id": "Gs5MiQVb1sPh"
      }
    },
    {
      "cell_type": "code",
      "source": [
        "# Cek informasi dataset\n",
        "print(df.info())"
      ],
      "metadata": {
        "colab": {
          "base_uri": "https://localhost:8080/"
        },
        "id": "cxiofKZ91uYb",
        "outputId": "d215709a-e1fa-4a14-ba59-70af19397b44"
      },
      "execution_count": 5,
      "outputs": [
        {
          "output_type": "stream",
          "name": "stdout",
          "text": [
            "<class 'pandas.core.frame.DataFrame'>\n",
            "RangeIndex: 768 entries, 0 to 767\n",
            "Data columns (total 9 columns):\n",
            " #   Column                    Non-Null Count  Dtype  \n",
            "---  ------                    --------------  -----  \n",
            " 0   Pregnancies               768 non-null    int64  \n",
            " 1   Glucose                   768 non-null    int64  \n",
            " 2   BloodPressure             768 non-null    int64  \n",
            " 3   SkinThickness             768 non-null    int64  \n",
            " 4   Insulin                   768 non-null    int64  \n",
            " 5   BMI                       768 non-null    float64\n",
            " 6   DiabetesPedigreeFunction  768 non-null    float64\n",
            " 7   Age                       768 non-null    int64  \n",
            " 8   Outcome                   768 non-null    int64  \n",
            "dtypes: float64(2), int64(7)\n",
            "memory usage: 54.1 KB\n",
            "None\n"
          ]
        }
      ]
    },
    {
      "cell_type": "markdown",
      "source": [
        "Menampilkan informasi tentang dataset, seperti kolom, tipe data, dan jumlah kolom (9)"
      ],
      "metadata": {
        "id": "VZUEXQ7_fTYh"
      }
    },
    {
      "cell_type": "code",
      "source": [
        "# Cek missing value\n",
        "print(df.isnull().sum())"
      ],
      "metadata": {
        "colab": {
          "base_uri": "https://localhost:8080/"
        },
        "id": "2FISTsxw1xEc",
        "outputId": "4eeb6e4e-e774-4f69-e484-4659a7456d42"
      },
      "execution_count": 6,
      "outputs": [
        {
          "output_type": "stream",
          "name": "stdout",
          "text": [
            "Pregnancies                 0\n",
            "Glucose                     0\n",
            "BloodPressure               0\n",
            "SkinThickness               0\n",
            "Insulin                     0\n",
            "BMI                         0\n",
            "DiabetesPedigreeFunction    0\n",
            "Age                         0\n",
            "Outcome                     0\n",
            "dtype: int64\n"
          ]
        }
      ]
    },
    {
      "cell_type": "code",
      "source": [
        "# Jumlah pasien diabetes dan non-diabetes\n",
        "num_diabetes = df['Outcome'].value_counts()[1]\n",
        "num_non_diabetes = df['Outcome'].value_counts()[0]\n",
        "\n",
        "print(f\"Jumlah pasien diabetes: {num_diabetes}\")\n",
        "print(f\"Jumlah pasien non-diabetes: {num_non_diabetes}\")"
      ],
      "metadata": {
        "colab": {
          "base_uri": "https://localhost:8080/"
        },
        "id": "v3mwL35zT-3q",
        "outputId": "8016dd56-5d9b-439d-aea5-2747e9fcd9b4"
      },
      "execution_count": 7,
      "outputs": [
        {
          "output_type": "stream",
          "name": "stdout",
          "text": [
            "Jumlah pasien diabetes: 268\n",
            "Jumlah pasien non-diabetes: 500\n"
          ]
        }
      ]
    },
    {
      "cell_type": "code",
      "source": [
        "# Distribusi kelas\n",
        "plt.figure(figsize=(6,4))\n",
        "sns.countplot(x='Outcome', data=df)\n",
        "plt.title('Distribusi Pasien Diabetes vs Non-Diabetes')\n",
        "plt.show()"
      ],
      "metadata": {
        "colab": {
          "base_uri": "https://localhost:8080/",
          "height": 410
        },
        "id": "gjeEtWKO14BZ",
        "outputId": "37742229-735b-4310-d3a8-f2c7e16eb248"
      },
      "execution_count": 8,
      "outputs": [
        {
          "output_type": "display_data",
          "data": {
            "text/plain": [
              "<Figure size 600x400 with 1 Axes>"
            ],
            "image/png": "[encoded data removed]"
          },
          "metadata": {}
        }
      ]
    },
    {
      "cell_type": "markdown",
      "source": [
        "### Distribusi Pasien Diabetes vs Non-Diabetes\n",
        "\n",
        "Grafik di atas menunjukkan distribusi awal pasien diabetes dan non-diabetes dalam dataset. Dapat dilihat bahwa jumlah pasien non-diabetes (500) lebih banyak dibandingkan pasien diabetes (268). Ketidakseimbangan kelas ini ditangani dengan menggunakan teknik oversampling SMOTE sebelum pelatihan model, sehingga distribusi kelas pada data latih menjadi seimbang."
      ],
      "metadata": {
        "id": "eosZEbZtUSUo"
      }
    },
    {
      "cell_type": "code",
      "source": [
        "# Korelasi fitur\n",
        "plt.figure(figsize=(10,6))\n",
        "sns.heatmap(df.corr(), annot=True, cmap='coolwarm', fmt=\".2f\")\n",
        "plt.title('Korelasi Antar Fitur')\n",
        "plt.show()"
      ],
      "metadata": {
        "colab": {
          "base_uri": "https://localhost:8080/",
          "height": 712
        },
        "id": "IGFoOR-N2Dee",
        "outputId": "63661f0b-744a-4058-c13e-afc8f5ef5753"
      },
      "execution_count": 9,
      "outputs": [
        {
          "output_type": "display_data",
          "data": {
            "text/plain": [
              "<Figure size 1000x600 with 2 Axes>"
            ],
            "image/png": "[encoded data removed]"
          },
          "metadata": {}
        }
      ]
    },
    {
      "cell_type": "markdown",
      "source": [
        "### Korelasi dengan Outcome\n",
        "\n",
        "1. **Glucose** (0.47)  \n",
        "   Korelasi tertinggi dengan Outcome. Kadar glukosa tinggi merupakan indikator utama diabetes.\n",
        "\n",
        "2. **BMI** (0.29)  \n",
        "   Indeks massa tubuh tinggi berkaitan dengan peningkatan risiko diabetes.\n",
        "\n",
        "3. **Age** (0.24)  \n",
        "   Usia semakin tinggi cenderung memiliki risiko lebih besar.\n",
        "\n",
        "4. **Pregnancies** (0.22)  \n",
        "   Jumlah kehamilan berpengaruh pada risiko diabetes.\n",
        "\n",
        "\n",
        "### Korelasi Terendah:\n",
        "1. BloodPressure (Tekanan Darah diastolik) vs Outcome (0.07)\n",
        "2. DiabetesPedigreeFunction (Riwayat diabetes dalam keluarga pasien) vs Outcome (0.17)"
      ],
      "metadata": {
        "id": "QLSt91ksV5Ms"
      }
    },
    {
      "cell_type": "markdown",
      "source": [
        "###  Persiapan Data"
      ],
      "metadata": {
        "id": "4jkVgXMs2JvU"
      }
    },
    {
      "cell_type": "code",
      "source": [
        "# Mengganti nilai 0 dengan NaN (Not a Number) pada fitur tertentu\n",
        "# Fitur yang sering memiliki nilai 0 yang berarti missing: Glucose, BloodPressure, SkinThickness, Insulin, BMI\n",
        "cols_to_replace_with_nan = ['Glucose', 'BloodPressure', 'SkinThickness', 'Insulin', 'BMI']\n",
        "df[cols_to_replace_with_nan] = df[cols_to_replace_with_nan].replace(0, np.nan)\n",
        "\n",
        "# Menangani missing values untuk fitur selain 'Insulin' dengan mean imputation\n",
        "# Sesuai paper: \"we replaced them with the mean value of each feature\"\n",
        "for col in ['Glucose', 'BloodPressure', 'SkinThickness', 'BMI']:\n",
        "    if df[col].isnull().any():\n",
        "        df[col].fillna(df[col].mean(), inplace=True)\n",
        "\n",
        "# Menangani missing values untuk 'Insulin' menggunakan XGBoost Regressor (pendekatan semi-supervised)\n",
        "# Sesuai paper: \"Specifically, for the missing insulin attributes..., we applied a semi-supervised learning approach using an XGBoost regressor model to predict the missing insulin values\"\n",
        "if df['Insulin'].isnull().any():\n",
        "    # Pisahkan data menjadi yang memiliki nilai Insulin dan yang missing\n",
        "    insulin_known = df.dropna(subset=['Insulin'])\n",
        "    insulin_missing = df[df['Insulin'].isnull()]\n",
        "\n",
        "    if not insulin_missing.empty:\n",
        "        # Fitur untuk memprediksi Insulin (gunakan semua fitur lain kecuali Outcome dan Insulin itu sendiri)\n",
        "        features_for_insulin_pred = [col for col in df.columns if col not in ['Insulin', 'Outcome']]\n",
        "\n",
        "        X_insulin_train = insulin_known[features_for_insulin_pred]\n",
        "        y_insulin_train = insulin_known['Insulin']\n",
        "\n",
        "        # Inisialisasi dan latih model XGBoost Regressor\n",
        "        xgb_regressor = XGBRegressor(random_state=42)\n",
        "        xgb_regressor.fit(X_insulin_train, y_insulin_train)\n",
        "\n",
        "        # Prediksi nilai Insulin yang hilang\n",
        "        X_insulin_predict = insulin_missing[features_for_insulin_pred]\n",
        "        predicted_insulin = xgb_regressor.predict(X_insulin_predict)\n",
        "\n",
        "        # Isi nilai Insulin yang hilang di dataframe asli\n",
        "        df.loc[df['Insulin'].isnull(), 'Insulin'] = predicted_insulin\n",
        "\n",
        "print(\"Missing values after imputation:\")\n",
        "print(df.isnull().sum())"
      ],
      "metadata": {
        "id": "hc35liJT2NM-",
        "colab": {
          "base_uri": "https://localhost:8080/"
        },
        "outputId": "03947a45-fe3c-4c59-9222-4b862ede8d14"
      },
      "execution_count": 10,
      "outputs": [
        {
          "output_type": "stream",
          "name": "stderr",
          "text": [
            "<ipython-input-10-3160259975>:10: FutureWarning: A value is trying to be set on a copy of a DataFrame or Series through chained assignment using an inplace method.\n",
            "The behavior will change in pandas 3.0. This inplace method will never work because the intermediate object on which we are setting values always behaves as a copy.\n",
            "\n",
            "For example, when doing 'df[col].method(value, inplace=True)', try using 'df.method({col: value}, inplace=True)' or df[col] = df[col].method(value) instead, to perform the operation inplace on the original object.\n",
            "\n",
            "\n",
            "  df[col].fillna(df[col].mean(), inplace=True)\n"
          ]
        },
        {
          "output_type": "stream",
          "name": "stdout",
          "text": [
            "Missing values after imputation:\n",
            "Pregnancies                 0\n",
            "Glucose                     0\n",
            "BloodPressure               0\n",
            "SkinThickness               0\n",
            "Insulin                     0\n",
            "BMI                         0\n",
            "DiabetesPedigreeFunction    0\n",
            "Age                         0\n",
            "Outcome                     0\n",
            "dtype: int64\n"
          ]
        }
      ]
    },
    {
      "cell_type": "code",
      "source": [
        "# Feature Selection using Mutual Information\n",
        "# Sesuai paper: \"using mutual information for feature selection\" and \"diabetes pedigree function was excluded\"\n",
        "\n",
        "# Hitung mutual information scores (untuk analisis dan referensi)\n",
        "X_temp_for_mi = df.drop('Outcome', axis=1)\n",
        "y_temp_for_mi = df['Outcome']\n",
        "mi_scores = mutual_info_classif(X_temp_for_mi, y_temp_for_mi, random_state=42)\n",
        "mi_scores = pd.Series(mi_scores, name=\"MI Scores\", index=X_temp_for_mi.columns)\n",
        "mi_scores = mi_scores.sort_values(ascending=False)\n",
        "\n",
        "print(\"Mutual Information Scores (for reference):\")\n",
        "print(mi_scores)\n",
        "\n",
        "# Melakukan feature selection sesuai paper: mengecualikan 'DiabetesPedigreeFunction'\n",
        "# Paper menyatakan 'diabetes pedigree function' dianggap kurang penting dan dikecualikan.\n",
        "if 'DiabetesPedigreeFunction' in df.columns:\n",
        "    df.drop('DiabetesPedigreeFunction', axis=1, inplace=True)\n",
        "    print(\"\\n'DiabetesPedigreeFunction' column dropped as per paper's feature selection.\")\n",
        "else:\n",
        "    print(\"\\n'DiabetesPedigreeFunction' not found or already dropped.\")\n",
        "\n",
        "print(\"\\nDataFrame columns after feature selection:\")\n",
        "print(df.columns)"
      ],
      "metadata": {
        "colab": {
          "base_uri": "https://localhost:8080/"
        },
        "id": "XysdMnn6fzTy",
        "outputId": "65ab0bb6-5782-49a4-d7f7-83516b055072"
      },
      "execution_count": 11,
      "outputs": [
        {
          "output_type": "stream",
          "name": "stdout",
          "text": [
            "Mutual Information Scores (for reference):\n",
            "Glucose                     0.118544\n",
            "BMI                         0.084436\n",
            "Insulin                     0.071760\n",
            "Pregnancies                 0.060985\n",
            "Age                         0.051395\n",
            "DiabetesPedigreeFunction    0.014590\n",
            "SkinThickness               0.004667\n",
            "BloodPressure               0.000000\n",
            "Name: MI Scores, dtype: float64\n",
            "\n",
            "'DiabetesPedigreeFunction' column dropped as per paper's feature selection.\n",
            "\n",
            "DataFrame columns after feature selection:\n",
            "Index(['Pregnancies', 'Glucose', 'BloodPressure', 'SkinThickness', 'Insulin',\n",
            "       'BMI', 'Age', 'Outcome'],\n",
            "      dtype='object')\n"
          ]
        }
      ]
    },
    {
      "cell_type": "markdown",
      "source": [
        "#### Data Splitting"
      ],
      "metadata": {
        "id": "9okF30S8PtMd"
      }
    },
    {
      "cell_type": "markdown",
      "source": [
        "Membagi data menjadi data latih (train) dan data uji (test) dengan rasio 80:20."
      ],
      "metadata": {
        "id": "kq6mh9oVfznc"
      }
    },
    {
      "cell_type": "code",
      "source": [
        "# Data Splitting\n",
        "X = df.drop('Outcome', axis=1)\n",
        "y = df['Outcome']\n",
        "X_train, X_test, y_train, y_test = train_test_split(X, y, test_size=0.2, random_state=42)"
      ],
      "metadata": {
        "id": "0px9KkONPswA"
      },
      "execution_count": 12,
      "outputs": []
    },
    {
      "cell_type": "code",
      "source": [
        "print(\"Data Splitting:\")\n",
        "print(f\"Jumlah data train (X_train): {X_train.shape[0]}\")\n",
        "print(f\"Jumlah data test (X_test): {X_test.shape[0]}\")\n",
        "print(f\"Jumlah target train (y_train): {y_train.shape[0]}\")\n",
        "print(f\"Jumlah target test (y_test): {y_test.shape[0]}\")"
      ],
      "metadata": {
        "colab": {
          "base_uri": "https://localhost:8080/"
        },
        "id": "-8X15AXmXCxe",
        "outputId": "8fd93b92-2008-4b36-c1c2-666b4e01b74e"
      },
      "execution_count": 13,
      "outputs": [
        {
          "output_type": "stream",
          "name": "stdout",
          "text": [
            "Data Splitting:\n",
            "Jumlah data train (X_train): 614\n",
            "Jumlah data test (X_test): 154\n",
            "Jumlah target train (y_train): 614\n",
            "Jumlah target test (y_test): 154\n"
          ]
        }
      ]
    },
    {
      "cell_type": "markdown",
      "source": [
        "#### Scaling"
      ],
      "metadata": {
        "id": "1amlLMBaP0Vh"
      }
    },
    {
      "cell_type": "markdown",
      "source": [
        "Melakukan scaling data menggunakan StandardScaler yang bertujuan untuk menyamakan skala antar fitur"
      ],
      "metadata": {
        "id": "_mR1DZFrf-4g"
      }
    },
    {
      "cell_type": "code",
      "source": [
        "# Scaling\n",
        "# Sesuai paper: \"Min-Max Normalization\"\n",
        "scaler = MinMaxScaler()\n",
        "X_train = scaler.fit_transform(X_train)\n",
        "X_test = scaler.transform(X_test)\n",
        "print(\"\\nData scaled using MinMaxScaler.\")\n",
        "print(f\"X_train shape after scaling: {X_train.shape}\")\n",
        "print(f\"X_test shape after scaling: {X_test.shape}\")"
      ],
      "metadata": {
        "id": "v5S6AjdHPztv",
        "colab": {
          "base_uri": "https://localhost:8080/"
        },
        "outputId": "5e40693d-c9db-45ee-ecb9-314209803f44"
      },
      "execution_count": 14,
      "outputs": [
        {
          "output_type": "stream",
          "name": "stdout",
          "text": [
            "\n",
            "Data scaled using MinMaxScaler.\n",
            "X_train shape after scaling: (614, 7)\n",
            "X_test shape after scaling: (154, 7)\n"
          ]
        }
      ]
    },
    {
      "cell_type": "markdown",
      "source": [
        "#### Data Imbalance"
      ],
      "metadata": {
        "id": "uksOaw6aP6Gu"
      }
    },
    {
      "cell_type": "markdown",
      "source": [
        "Menggunakan teknik SMOTE untuk mengatasi ketidakseimbangan kelas pada data train"
      ],
      "metadata": {
        "id": "jF1sctZIgFt4"
      }
    },
    {
      "cell_type": "code",
      "source": [
        "# Penanganan data tidak seimbang\n",
        "smote = SMOTE(random_state=42)\n",
        "X_train, y_train = smote.fit_resample(X_train, y_train)"
      ],
      "metadata": {
        "id": "mF1JO2S3P8V7"
      },
      "execution_count": 15,
      "outputs": []
    },
    {
      "cell_type": "markdown",
      "source": [
        "### Modelling"
      ],
      "metadata": {
        "id": "bcHJOsSN2WG_"
      }
    },
    {
      "cell_type": "markdown",
      "source": [
        "Menggunakan 3 model machine learning\n",
        "\n",
        "1. Logistic Regression\n",
        "2. Random Forest\n",
        "3. Gradient Boosting"
      ],
      "metadata": {
        "id": "SgKlY-xXZ3uY"
      }
    },
    {
      "cell_type": "code",
      "source": [
        "# Inisialisasi model\n",
        "models = {\n",
        "    'Logistic Regression': LogisticRegression(max_iter=1000),\n",
        "    'Random Forest': RandomForestClassifier(),\n",
        "    'Gradient Boosting': GradientBoostingClassifier()\n",
        "}"
      ],
      "metadata": {
        "id": "-S4HmmDc2Xm-"
      },
      "execution_count": 16,
      "outputs": []
    },
    {
      "cell_type": "markdown",
      "source": [
        "#### Pelatihan Model"
      ],
      "metadata": {
        "id": "gSA4IAjL2fEf"
      }
    },
    {
      "cell_type": "code",
      "source": [
        "results = {}\n",
        "for name, model in models.items():\n",
        "    model.fit(X_train, y_train)\n",
        "    y_pred = model.predict(X_test)\n",
        "\n",
        "    acc = accuracy_score(y_test, y_pred)\n",
        "    print(f\"{name}\")\n",
        "    print(f\"Akurasi: {acc:.2f}\")\n",
        "    print(classification_report(y_test, y_pred))\n",
        "    print(\"=\"*50)\n",
        "\n",
        "    results[name] = acc"
      ],
      "metadata": {
        "colab": {
          "base_uri": "https://localhost:8080/"
        },
        "id": "dy9kg_302gOk",
        "outputId": "1acb1063-1b56-437f-fee0-f4d1c9d43caf"
      },
      "execution_count": 17,
      "outputs": [
        {
          "output_type": "stream",
          "name": "stdout",
          "text": [
            "Logistic Regression\n",
            "Akurasi: 0.71\n",
            "              precision    recall  f1-score   support\n",
            "\n",
            "           0       0.82      0.72      0.76        99\n",
            "           1       0.58      0.71      0.64        55\n",
            "\n",
            "    accuracy                           0.71       154\n",
            "   macro avg       0.70      0.71      0.70       154\n",
            "weighted avg       0.73      0.71      0.72       154\n",
            "\n",
            "==================================================\n",
            "Random Forest\n",
            "Akurasi: 0.74\n",
            "              precision    recall  f1-score   support\n",
            "\n",
            "           0       0.85      0.73      0.78        99\n",
            "           1       0.61      0.76      0.68        55\n",
            "\n",
            "    accuracy                           0.74       154\n",
            "   macro avg       0.73      0.75      0.73       154\n",
            "weighted avg       0.76      0.74      0.75       154\n",
            "\n",
            "==================================================\n",
            "Gradient Boosting\n",
            "Akurasi: 0.70\n",
            "              precision    recall  f1-score   support\n",
            "\n",
            "           0       0.83      0.68      0.74        99\n",
            "           1       0.56      0.75      0.64        55\n",
            "\n",
            "    accuracy                           0.70       154\n",
            "   macro avg       0.69      0.71      0.69       154\n",
            "weighted avg       0.73      0.70      0.71       154\n",
            "\n",
            "==================================================\n"
          ]
        }
      ]
    },
    {
      "cell_type": "markdown",
      "source": [
        "Random Forest memiliki performa terbaik dengan akurasi 0.74, kemudian dibawahnya yaitu Gradient Boosting dan Logistic Regression. Metrik presisi, recall, dan F1-score juga menunjukkan bahwa Random Forest memberikan hasil yang lebih baik secara keseluruhan."
      ],
      "metadata": {
        "id": "CEXXaK2EaOu6"
      }
    },
    {
      "cell_type": "markdown",
      "source": [
        "#### Hyperparameter Tuning"
      ],
      "metadata": {
        "id": "VEE5wbbE2kdq"
      }
    },
    {
      "cell_type": "markdown",
      "source": [
        "Menggunakan GridSearchCV untuk mencari hyperparameter terbaik untuk model Random Forest"
      ],
      "metadata": {
        "id": "h5glI8BJgSIb"
      }
    },
    {
      "cell_type": "code",
      "source": [
        "# Tuning Random Forest\n",
        "param_grid = {\n",
        "    'n_estimators': [100, 200],\n",
        "    'max_depth': [5, 10, None],\n",
        "    'min_samples_split': [2, 5]\n",
        "}\n",
        "\n",
        "grid_search = GridSearchCV(RandomForestClassifier(), param_grid, cv=5)\n",
        "grid_search.fit(X_train, y_train)\n",
        "\n",
        "best_model = grid_search.best_estimator_\n",
        "y_pred = best_model.predict(X_test)\n",
        "print(\"Akurasi Terbaik:\", accuracy_score(y_test, y_pred))"
      ],
      "metadata": {
        "id": "1c8WQ4zW2jFz",
        "colab": {
          "base_uri": "https://localhost:8080/"
        },
        "outputId": "672d30d0-fbf1-4867-a8f3-e86e60b44fe1"
      },
      "execution_count": 18,
      "outputs": [
        {
          "output_type": "stream",
          "name": "stdout",
          "text": [
            "Akurasi Terbaik: 0.7272727272727273\n"
          ]
        }
      ]
    },
    {
      "cell_type": "markdown",
      "source": [
        "### Evaluasi Model"
      ],
      "metadata": {
        "id": "SEoOius52ocV"
      }
    },
    {
      "cell_type": "code",
      "source": [
        "# Confusion Matrix\n",
        "cm = confusion_matrix(y_test, y_pred)\n",
        "sns.heatmap(cm, annot=True, fmt='d')\n",
        "plt.xlabel('Predicted')\n",
        "plt.ylabel('Actual')\n",
        "plt.title('Confusion Matrix Model Terbaik')\n",
        "plt.show()"
      ],
      "metadata": {
        "id": "Zk95tD3g2pE8",
        "colab": {
          "base_uri": "https://localhost:8080/",
          "height": 472
        },
        "outputId": "ede8e4a2-b5d3-4af2-d2fd-cd15c30e2ba3"
      },
      "execution_count": 19,
      "outputs": [
        {
          "output_type": "display_data",
          "data": {
            "text/plain": [
              "<Figure size 640x480 with 2 Axes>"
            ],
            "image/png": "[encoded data removed]"
          },
          "metadata": {}
        }
      ]
    },
    {
      "cell_type": "markdown",
      "source": [
        "### Keterangan:\n",
        "- **True Negative (TN)**: 81 Pasien non-diabetes diprediksi benar sebagai non-diabetes.\n",
        "- **False Positive (FP)**: 16 Pasien non-diabetes salah diprediksi sebagai diabetes.\n",
        "- **False Negative (FN)**: 15 Pasien diabetes salah diprediksi sebagai non-diabetes.\n",
        "- **True Positive (TP)**: 42 Pasien diabetes diprediksi benar sebagai diabetes."
      ],
      "metadata": {
        "id": "9shXbj_LbfZ1"
      }
    },
    {
      "cell_type": "code",
      "source": [
        "# Perbandingan Model\n",
        "pd.DataFrame({\n",
        "    'Model': list(results.keys()) + ['Tuned Random Forest'],\n",
        "    'Akurasi': list(results.values()) + [accuracy_score(y_test, y_pred)]\n",
        "}).sort_values(by='Akurasi', ascending=False)"
      ],
      "metadata": {
        "colab": {
          "base_uri": "https://localhost:8080/",
          "height": 175
        },
        "id": "RIsvH7xt_wFr",
        "outputId": "72803953-c0b6-449c-e81c-969bb7674461"
      },
      "execution_count": 20,
      "outputs": [
        {
          "output_type": "execute_result",
          "data": {
            "text/plain": [
              "                 Model   Akurasi\n",
              "1        Random Forest  0.740260\n",
              "3  Tuned Random Forest  0.727273\n",
              "0  Logistic Regression  0.714286\n",
              "2    Gradient Boosting  0.701299"
            ],
            "text/html": [
              "\n",
              "  <div id=\"df-12c76b22-a8da-4c66-9332-852d41d33ded\" class=\"colab-df-container\">\n",
              "    <div>\n",
              "<style scoped>\n",
              "    .dataframe tbody tr th:only-of-type {\n",
              "        vertical-align: middle;\n",
              "    }\n",
              "\n",
              "    .dataframe tbody tr th {\n",
              "        vertical-align: top;\n",
              "    }\n",
              "\n",
              "    .dataframe thead th {\n",
              "        text-align: right;\n",
              "    }\n",
              "</style>\n",
              "<table border=\"1\" class=\"dataframe\">\n",
              "  <thead>\n",
              "    <tr style=\"text-align: right;\">\n",
              "      <th></th>\n",
              "      <th>Model</th>\n",
              "      <th>Akurasi</th>\n",
              "    </tr>\n",
              "  </thead>\n",
              "  <tbody>\n",
              "    <tr>\n",
              "      <th>1</th>\n",
              "      <td>Random Forest</td>\n",
              "      <td>0.740260</td>\n",
              "    </tr>\n",
              "    <tr>\n",
              "      <th>3</th>\n",
              "      <td>Tuned Random Forest</td>\n",
              "      <td>0.727273</td>\n",
              "    </tr>\n",
              "    <tr>\n",
              "      <th>0</th>\n",
              "      <td>Logistic Regression</td>\n",
              "      <td>0.714286</td>\n",
              "    </tr>\n",
              "    <tr>\n",
              "      <th>2</th>\n",
              "      <td>Gradient Boosting</td>\n",
              "      <td>0.701299</td>\n",
              "    </tr>\n",
              "  </tbody>\n",
              "</table>\n",
              "</div>\n",
              "    <div class=\"colab-df-buttons\">\n",
              "\n",
              "  <div class=\"colab-df-container\">\n",
              "    <button class=\"colab-df-convert\" onclick=\"convertToInteractive('df-12c76b22-a8da-4c66-9332-852d41d33ded')\"\n",
              "            title=\"Convert this dataframe to an interactive table.\"\n",
              "            style=\"display:none;\">\n",
              "\n",
              "  <svg xmlns=\"http://www.w3.org/2000/svg\" height=\"24px\" viewBox=\"0 -960 960 960\">\n",
              "    <path d=\"M120-120v-720h720v720H120Zm60-500h600v-160H180v160Zm220 220h160v-160H400v160Zm0 220h160v-160H400v160ZM180-400h160v-160H180v160Zm440 0h160v-160H620v160ZM180-180h160v-160H180v160Zm440 0h160v-160H620v160Z\"/>\n",
              "  </svg>\n",
              "    </button>\n",
              "\n",
              "  <style>\n",
              "    .colab-df-container {\n",
              "      display:flex;\n",
              "      gap: 12px;\n",
              "    }\n",
              "\n",
              "    .colab-df-convert {\n",
              "      background-color: #E8F0FE;\n",
              "      border: none;\n",
              "      border-radius: 50%;\n",
              "      cursor: pointer;\n",
              "      display: none;\n",
              "      fill: #1967D2;\n",
              "      height: 32px;\n",
              "      padding: 0 0 0 0;\n",
              "      width: 32px;\n",
              "    }\n",
              "\n",
              "    .colab-df-convert:hover {\n",
              "      background-color: #E2EBFA;\n",
              "      box-shadow: 0px 1px 2px rgba(60, 64, 67, 0.3), 0px 1px 3px 1px rgba(60, 64, 67, 0.15);\n",
              "      fill: #174EA6;\n",
              "    }\n",
              "\n",
              "    .colab-df-buttons div {\n",
              "      margin-bottom: 4px;\n",
              "    }\n",
              "\n",
              "    [theme=dark] .colab-df-convert {\n",
              "      background-color: #3B4455;\n",
              "      fill: #D2E3FC;\n",
              "    }\n",
              "\n",
              "    [theme=dark] .colab-df-convert:hover {\n",
              "      background-color: #434B5C;\n",
              "      box-shadow: 0px 1px 3px 1px rgba(0, 0, 0, 0.15);\n",
              "      filter: drop-shadow(0px 1px 2px rgba(0, 0, 0, 0.3));\n",
              "      fill: #FFFFFF;\n",
              "    }\n",
              "  </style>\n",
              "\n",
              "    <script>\n",
              "      const buttonEl =\n",
              "        document.querySelector('#df-12c76b22-a8da-4c66-9332-852d41d33ded button.colab-df-convert');\n",
              "      buttonEl.style.display =\n",
              "        google.colab.kernel.accessAllowed ? 'block' : 'none';\n",
              "\n",
              "      async function convertToInteractive(key) {\n",
              "        const element = document.querySelector('#df-12c76b22-a8da-4c66-9332-852d41d33ded');\n",
              "        const dataTable =\n",
              "          await google.colab.kernel.invokeFunction('convertToInteractive',\n",
              "                                                    [key], {});\n",
              "        if (!dataTable) return;\n",
              "\n",
              "        const docLinkHtml = 'Like what you see? Visit the ' +\n",
              "          '<a target=\"_blank\" href=https://colab.research.google.com/notebooks/data_table.ipynb>data table notebook</a>'\n",
              "          + ' to learn more about interactive tables.';\n",
              "        element.innerHTML = '';\n",
              "        dataTable['output_type'] = 'display_data';\n",
              "        await google.colab.output.renderOutput(dataTable, element);\n",
              "        const docLink = document.createElement('div');\n",
              "        docLink.innerHTML = docLinkHtml;\n",
              "        element.appendChild(docLink);\n",
              "      }\n",
              "    </script>\n",
              "  </div>\n",
              "\n",
              "\n",
              "    <div id=\"df-31fdb7ea-a35a-467e-933e-3a9d39519430\">\n",
              "      <button class=\"colab-df-quickchart\" onclick=\"quickchart('df-31fdb7ea-a35a-467e-933e-3a9d39519430')\"\n",
              "                title=\"Suggest charts\"\n",
              "                style=\"display:none;\">\n",
              "\n",
              "<svg xmlns=\"http://www.w3.org/2000/svg\" height=\"24px\"viewBox=\"0 0 24 24\"\n",
              "     width=\"24px\">\n",
              "    <g>\n",
              "        <path d=\"M19 3H5c-1.1 0-2 .9-2 2v14c0 1.1.9 2 2 2h14c1.1 0 2-.9 2-2V5c0-1.1-.9-2-2-2zM9 17H7v-7h2v7zm4 0h-2V7h2v10zm4 0h-2v-4h2v4z\"/>\n",
              "    </g>\n",
              "</svg>\n",
              "      </button>\n",
              "\n",
              "<style>\n",
              "  .colab-df-quickchart {\n",
              "      --bg-color: #E8F0FE;\n",
              "      --fill-color: #1967D2;\n",
              "      --hover-bg-color: #E2EBFA;\n",
              "      --hover-fill-color: #174EA6;\n",
              "      --disabled-fill-color: #AAA;\n",
              "      --disabled-bg-color: #DDD;\n",
              "  }\n",
              "\n",
              "  [theme=dark] .colab-df-quickchart {\n",
              "      --bg-color: #3B4455;\n",
              "      --fill-color: #D2E3FC;\n",
              "      --hover-bg-color: #434B5C;\n",
              "      --hover-fill-color: #FFFFFF;\n",
              "      --disabled-bg-color: #3B4455;\n",
              "      --disabled-fill-color: #666;\n",
              "  }\n",
              "\n",
              "  .colab-df-quickchart {\n",
              "    background-color: var(--bg-color);\n",
              "    border: none;\n",
              "    border-radius: 50%;\n",
              "    cursor: pointer;\n",
              "    display: none;\n",
              "    fill: var(--fill-color);\n",
              "    height: 32px;\n",
              "    padding: 0;\n",
              "    width: 32px;\n",
              "  }\n",
              "\n",
              "  .colab-df-quickchart:hover {\n",
              "    background-color: var(--hover-bg-color);\n",
              "    box-shadow: 0 1px 2px rgba(60, 64, 67, 0.3), 0 1px 3px 1px rgba(60, 64, 67, 0.15);\n",
              "    fill: var(--button-hover-fill-color);\n",
              "  }\n",
              "\n",
              "  .colab-df-quickchart-complete:disabled,\n",
              "  .colab-df-quickchart-complete:disabled:hover {\n",
              "    background-color: var(--disabled-bg-color);\n",
              "    fill: var(--disabled-fill-color);\n",
              "    box-shadow: none;\n",
              "  }\n",
              "\n",
              "  .colab-df-spinner {\n",
              "    border: 2px solid var(--fill-color);\n",
              "    border-color: transparent;\n",
              "    border-bottom-color: var(--fill-color);\n",
              "    animation:\n",
              "      spin 1s steps(1) infinite;\n",
              "  }\n",
              "\n",
              "  @keyframes spin {\n",
              "    0% {\n",
              "      border-color: transparent;\n",
              "      border-bottom-color: var(--fill-color);\n",
              "      border-left-color: var(--fill-color);\n",
              "    }\n",
              "    20% {\n",
              "      border-color: transparent;\n",
              "      border-left-color: var(--fill-color);\n",
              "      border-top-color: var(--fill-color);\n",
              "    }\n",
              "    30% {\n",
              "      border-color: transparent;\n",
              "      border-left-color: var(--fill-color);\n",
              "      border-top-color: var(--fill-color);\n",
              "      border-right-color: var(--fill-color);\n",
              "    }\n",
              "    40% {\n",
              "      border-color: transparent;\n",
              "      border-right-color: var(--fill-color);\n",
              "      border-top-color: var(--fill-color);\n",
              "    }\n",
              "    60% {\n",
              "      border-color: transparent;\n",
              "      border-right-color: var(--fill-color);\n",
              "    }\n",
              "    80% {\n",
              "      border-color: transparent;\n",
              "      border-right-color: var(--fill-color);\n",
              "      border-bottom-color: var(--fill-color);\n",
              "    }\n",
              "    90% {\n",
              "      border-color: transparent;\n",
              "      border-bottom-color: var(--fill-color);\n",
              "    }\n",
              "  }\n",
              "</style>\n",
              "\n",
              "      <script>\n",
              "        async function quickchart(key) {\n",
              "          const quickchartButtonEl =\n",
              "            document.querySelector('#' + key + ' button');\n",
              "          quickchartButtonEl.disabled = true;  // To prevent multiple clicks.\n",
              "          quickchartButtonEl.classList.add('colab-df-spinner');\n",
              "          try {\n",
              "            const charts = await google.colab.kernel.invokeFunction(\n",
              "                'suggestCharts', [key], {});\n",
              "          } catch (error) {\n",
              "            console.error('Error during call to suggestCharts:', error);\n",
              "          }\n",
              "          quickchartButtonEl.classList.remove('colab-df-spinner');\n",
              "          quickchartButtonEl.classList.add('colab-df-quickchart-complete');\n",
              "        }\n",
              "        (() => {\n",
              "          let quickchartButtonEl =\n",
              "            document.querySelector('#df-31fdb7ea-a35a-467e-933e-3a9d39519430 button');\n",
              "          quickchartButtonEl.style.display =\n",
              "            google.colab.kernel.accessAllowed ? 'block' : 'none';\n",
              "        })();\n",
              "      </script>\n",
              "    </div>\n",
              "\n",
              "    </div>\n",
              "  </div>\n"
            ],
            "application/vnd.google.colaboratory.intrinsic+json": {
              "type": "dataframe",
              "summary": "{\n  \"name\": \"})\",\n  \"rows\": 4,\n  \"fields\": [\n    {\n      \"column\": \"Model\",\n      \"properties\": {\n        \"dtype\": \"string\",\n        \"num_unique_values\": 4,\n        \"samples\": [\n          \"Tuned Random Forest\",\n          \"Gradient Boosting\",\n          \"Random Forest\"\n        ],\n        \"semantic_type\": \"\",\n        \"description\": \"\"\n      }\n    },\n    {\n      \"column\": \"Akurasi\",\n      \"properties\": {\n        \"dtype\": \"number\",\n        \"std\": 0.016766161671893584,\n        \"min\": 0.7012987012987013,\n        \"max\": 0.7402597402597403,\n        \"num_unique_values\": 4,\n        \"samples\": [\n          0.7272727272727273,\n          0.7012987012987013,\n          0.7402597402597403\n        ],\n        \"semantic_type\": \"\",\n        \"description\": \"\"\n      }\n    }\n  ]\n}"
            }
          },
          "metadata": {},
          "execution_count": 20
        }
      ]
    },
    {
      "cell_type": "markdown",
      "source": [
        "Meskipun tuning tidak meningkatkan akurasi, hal ini tetap memberikan informasi penting bahwa hyperparameter default Random Forest sudah cukup optimal untuk dataset ini.\n",
        "\n",
        "Penggunaan Grid Search memastikan bahwa kita telah mengeksplorasi kemungkinan kombinasi hyperparameter dan memilih yang terbaik."
      ],
      "metadata": {
        "id": "XDFL6oI1azfR"
      }
    },
    {
      "cell_type": "markdown",
      "source": [
        "### Menyimpan Model"
      ],
      "metadata": {
        "id": "KpWoKj5UQZSJ"
      }
    },
    {
      "cell_type": "markdown",
      "source": [
        "Menyimpan model terbaik ke dalam file 'model_diabetes.pkl' agar dapat digunakan kembali di kemudian hari"
      ],
      "metadata": {
        "id": "r7Fvf2AKgaOK"
      }
    },
    {
      "cell_type": "code",
      "source": [
        "import joblib\n",
        "joblib.dump(best_model, 'model_diabetes.pkl')"
      ],
      "metadata": {
        "id": "7Kod35SX_5zP",
        "colab": {
          "base_uri": "https://localhost:8080/"
        },
        "outputId": "022fdea4-2523-42d7-c83d-717375461c0a"
      },
      "execution_count": 21,
      "outputs": [
        {
          "output_type": "execute_result",
          "data": {
            "text/plain": [
              "['model_diabetes.pkl']"
            ]
          },
          "metadata": {},
          "execution_count": 21
        }
      ]
    }
  ]
}